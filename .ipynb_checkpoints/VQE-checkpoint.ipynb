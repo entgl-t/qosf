{
 "cells": [
  {
   "cell_type": "markdown",
   "metadata": {},
   "source": [
    "<h3 align=\"right\">\n",
    "Doniyor Tropmann\n",
    "</h3>\n",
    "<h1 align=\"center\">\n",
    "Task 4:\tVariational quantum eigensolver\n",
    "</h1>"
   ]
  },
  {
   "cell_type": "markdown",
   "metadata": {},
   "source": [
    "<h3 align=\"left\">\n",
    "Description\n",
    "</h3>"
   ]
  },
  {
   "cell_type": "markdown",
   "metadata": {},
   "source": [
    "Find the lowest eigenvalue of the following matrix:\n",
    "$$\n",
    "\\begin{pmatrix}\n",
    "1 & 0 & 0 & 0\\\\\n",
    "0 & 0 & -1 & 0\\\\\n",
    "0 & -1 & 0 & 0\\\\\n",
    "0 & 0 & 0 & -1\n",
    "\\end{pmatrix}\n",
    "\\qquad\n",
    "$$\n",
    "\n",
    "\n",
    "using VQE-like circuits, created by yourself from scratch.\n"
   ]
  },
  {
   "cell_type": "markdown",
   "metadata": {},
   "source": [
    "<h3 align=\"left\">\n",
    "Overview\n",
    "</h3>\n",
    "\n",
    "\n",
    "The Variational-Quantum-Eigensolver (VQE) is a quantum/classical hybrid algorithm that can be used to find eigenvalues of a (often large) matrix H. When this algorithm is used in quantum simulations, H is typically the Hamiltonian of some system. In this hybrid algorithm a quantum subroutine is run inside of a classical optimization loop.\n",
    "\n",
    "The quantum subroutine has two fundamental steps:\n",
    "\n",
    "1. Prepare the quantum state $|\\Psi(\\theta) \\rangle $ , often called the ansatz.\n",
    "2. Measure the expectation value $ \\langle \\Psi(\\theta)|H|\\Psi(\\theta) \\rangle $.\n",
    "\n",
    "The variational principle ensures that this expectation value is always greater than the smallest eigenvalue of H.\n",
    "\n",
    "This bound allows us to use classical computation to run an optimization loop to find this eigenvalue:\n",
    "\n",
    "   1. Use a classical non-linear optimizer to minimize the expectation value by varying ansatz parameter $\\theta$.\n",
    "   \n",
    "   2. Iterate until convergence.\n",
    "   \n",
    "   \n",
    "   <img src=\"images/vqe_parts.png\" alt=\"drawing\" width=\"600\"/>"
   ]
  },
  {
   "cell_type": "code",
   "execution_count": 1,
   "metadata": {},
   "outputs": [],
   "source": [
    "import numpy as np\n",
    "from qiskit.circuit import QuantumCircuit, QuantumRegister, ClassicalRegister\n",
    "from qiskit.aqua.operators import WeightedPauliOperator\n",
    "from qiskit.aqua.algorithms import NumPyEigensolver\n",
    "from qiskit import BasicAer, execute\n",
    "#from scipy.optimize import fmin\n",
    "#from scipy.optimize import minimize"
   ]
  },
  {
   "cell_type": "markdown",
   "metadata": {},
   "source": [
    "Our ansatz will be:\n",
    "\n",
    "$$\n",
    "\\left| \\Psi(\\theta) \\right\\rangle =  (R_{X_1}(\\theta)\\otimes I_2) C_1X_2 (H_1\\otimes I_2) |00 \\rangle\n",
    "$$\n"
   ]
  },
  {
   "cell_type": "markdown",
   "metadata": {},
   "source": [
    "A quantum state preparation circuit generate all possible states for two qubit Hamiltonian. Before applying quantum state preparation circuit, our double qubit system is in state $|00 \\rangle =  \\begin{pmatrix}\n",
    "1 & 0 & 0 & 0 \\\\\n",
    "\\end{pmatrix}^T\n",
    "$. In order to generate any possible $\\left| \\Psi \\right\\rangle$ we will first apply Hadamard gate $H_1$ on first qubit and  identity gate $I_2$ on second qubits.After that we will apply CNOT-gate and finally we will apply a parametrized $R_{X_1}(\\theta)$ rotation around the x axis on first qubit and identity $I_2$ operator on second qubit. \n",
    "With that stack of operators, one can have access to any point in desired subspace of full Hilbert space. Here is  the matrix forms of $R_x(\\theta)$ gate:\n",
    "\n",
    "$$\n",
    "R_x(\\theta) = \\begin{pmatrix}\n",
    "cos(\\frac{\\theta}{2}) & -i \\cdot sin(\\frac{\\theta}{2})\\\\\n",
    "-i \\cdot sin(\\frac{\\theta}{2}) & cos(\\frac{\\theta}{2})\n",
    "\\end{pmatrix},\n",
    "\\qquad\n",
    "$$\n",
    "\n",
    "That sequence of operations will generate the ansatz. The parameter $\\theta$ will be in control of the Classical Computer and its optimization model. Here is the corresponding circuit:\n",
    "\n",
    "<img src=\"images/ansatz.png\" alt=\"drawing\" width=\"400\"/>\n",
    "\n",
    "\n",
    "\n",
    "The function for parametrized state preparation with parameter $\\theta$.\n"
   ]
  },
  {
   "cell_type": "code",
   "execution_count": 2,
   "metadata": {},
   "outputs": [],
   "source": [
    "def state_preparation(circuit, theta):\n",
    "    q = circuit.qregs[0]\n",
    "    circuit.h(q[0])\n",
    "    circuit.i(q[1])\n",
    "    circuit.cnot(q[0],q[1])\n",
    "    circuit.rx(theta+0.0, q[0]) \n",
    "    circuit.i(q[1])\n",
    "           \n",
    "    return circuit"
   ]
  },
  {
   "cell_type": "markdown",
   "metadata": {},
   "source": [
    "Lets consider our Hamiltonian of 2 qubit composite quantum system \n",
    "$$\n",
    "H = \\begin{pmatrix}\n",
    "1 & 0 & 0 & 0\\\\\n",
    "0 & 0 & -1 & 0\\\\\n",
    "0 & -1 & 0 & 0\\\\\n",
    "0 & 0 & 0 & -1\n",
    "\\end{pmatrix},\n",
    "\\qquad\n",
    "$$\n",
    "\n",
    "\n",
    "Our Hamiltonian can be expressed as linear combination of 4 matices acting on 4 dimension Hilbert space:\n",
    "\n",
    "$$H = \\frac{1}{2}I_1 \\otimes I_2 - \\frac{1}{2} X_1 \\otimes X_2  - \\frac{1}{2} Y_1 \\otimes Y_2 + \\frac{1}{2} Z_1 \\otimes Z_2 $$\n",
    "\n",
    "Pauli matrices acting on composite  2 qubit system:\n",
    "\n",
    "$$\n",
    "I_1 \\otimes I_2 = \\begin{pmatrix}\n",
    "1 & 0 & 0 & 0\\\\\n",
    "0 & 1 & 0 & 0\\\\\n",
    "0 & 0 & 1 & 0\\\\\n",
    "0 & 0 & 0 & 1\n",
    "\\end{pmatrix} =  |00 \\rangle \\langle 00 |+ |01 \\rangle \\langle 01 | + |10 \\rangle \\langle 10 | + |11 \\rangle \\langle 11 |\n",
    "\\qquad\n",
    "$$\n",
    "\n",
    "$$\n",
    "\\hspace{1cm} X_1 \\otimes X_2 = \\begin{pmatrix}\n",
    "0 & 0 & 0 & 1\\\\\n",
    "0 & 0 & 1 & 0\\\\\n",
    "0 & 1 & 0 & 0\\\\\n",
    "1 & 0 & 0 & 0\n",
    "\\end{pmatrix} = |00 \\rangle \\langle 11 |+ |01 \\rangle \\langle 10 | + |10 \\rangle \\langle 01 | + |11 \\rangle \\langle 00 |\n",
    "\\qquad\n",
    "\\qquad\n",
    "$$\n",
    "\n",
    "$$\n",
    " Y_1 \\otimes Y_2 = \\begin{pmatrix}\n",
    "0 & 0 & 0 & -1\\\\\n",
    "0 & 0 & 1 & 0\\\\\n",
    "0 & 1 & 0 & 0\\\\\n",
    "-1 & 0 & 0 & 0\n",
    "\\end{pmatrix} = -|00 \\rangle \\langle 11 |+ |01 \\rangle \\langle 01 | + |10 \\rangle \\langle 10 | - |11 \\rangle \\langle 00 |\n",
    "\\qquad\n",
    "$$\n",
    "\n",
    "$$\n",
    "Z_1 \\otimes Z_2 = \\begin{pmatrix}\n",
    "1 & 0 & 0 & 0\\\\\n",
    "0 & -1 & 0 & 0\\\\\n",
    "0 & 0 & -1 & 0\\\\\n",
    "0 & 0 & 0 & 1\n",
    "\\end{pmatrix} = |00 \\rangle \\langle 00 | - |01 \\rangle \\langle 10 | - |10 \\rangle \\langle 01 | + |11 \\rangle \\langle 11 |\n",
    "\\qquad\n",
    "$$\n",
    "\n",
    "\n",
    "here are matrix representations of each Pauli operators:\n",
    "\n",
    "$$\n",
    "I = \\begin{pmatrix}\n",
    "1 & 0\\\\\n",
    "0 & 1\n",
    "\\end{pmatrix},\n",
    "\\qquad\n",
    "Z = \\begin{pmatrix}\n",
    "1 & 0\\\\\n",
    "0 & -1\n",
    "\\end{pmatrix},\n",
    "\\qquad\n",
    "X = \\begin{pmatrix}\n",
    "0 & 1\\\\\n",
    "1 & 0\n",
    "\\end{pmatrix},\n",
    "\\qquad\n",
    "Y = \\begin{pmatrix}\n",
    "0 & -i\\\\\n",
    "i & 0\n",
    "\\end{pmatrix}.\n",
    "$$\n"
   ]
  },
  {
   "cell_type": "markdown",
   "metadata": {},
   "source": [
    "And finally for a given $\\left| \\Psi \\right\\rangle$ we can measure the expectation value of the Hamiltonian:\n",
    "\n",
    "$$\\left\\langle H \\right\\rangle = \\left\\langle \\Psi(\\theta) \\right| H \\left| \\Psi(\\theta) \\right\\rangle = \\frac{1}{2} \\cdot \\left\\langle \\Psi(\\theta) \\right| I_1 \\otimes I_2 \\left| \\Psi(\\theta) \\right\\rangle - \\frac{1}{2} \\cdot \\left\\langle \\Psi(\\theta) \\right| X_1 \\otimes X_2 \\left| \\Psi(\\theta) \\right\\rangle - \\frac{1}{2} \\cdot \\left\\langle \\Psi(\\theta) \\left| Y_1 \\otimes Y_2 \\right| \\Psi(\\theta) \\right\\rangle + \\frac{1}{2} \\cdot \\left\\langle \\Psi(\\theta) \\left| Z_1 \\otimes Z_2 \\right| \\Psi(\\theta) \\right\\rangle.$$\n",
    "\n",
    "\n",
    "The algorithm constructs a quantum circuit for each term in sum and computes the expectation value of the corresponding terms. The sum of all calculated expectation values of terms are the expectation value of $H$.\n",
    "\n",
    "The eigenvector $\\left| \\psi_{min} \\right\\rangle$ that minimizes the expectation value $\\left\\langle H \\right\\rangle$ corresponds to the eigenvector of $H$ that has the smallest eigenvalue. Therefore we can try finite set of trial states $\\left| \\psi \\right\\rangle$ to find the $\\left| \\psi_{min} \\right\\rangle$ that has the smallest expectation value. In the algorithm, the trial states are created from a parametrized circuit. By changing the parameters one obtains different ansatz states. \n",
    "\n",
    "The parameters of the state preparation circuit are controlled by a classical computer. At each step, the classical computer will change the parameters by using some optimization method in order to create an ansatz state that will have a smaller expectation value then previous ansatz states had. This way the classical computer and the quantum computer are working together to archive the goal of the algorithm (to find the ground state energy). That's way, VQE is a quantum-classical hybrid algorithm.\n",
    "\n"
   ]
  },
  {
   "cell_type": "markdown",
   "metadata": {},
   "source": [
    "We define a function for preparing the Hamiltoinal."
   ]
  },
  {
   "cell_type": "code",
   "execution_count": 3,
   "metadata": {},
   "outputs": [],
   "source": [
    "def prepare_hamiltonian(a, b, c, d):\n",
    "    \"\"\"\n",
    "    Creates a hamiltonial.\n",
    "    :param coefficients: real valued coefficients of sum terms for constructing the hamiltonian of system.\n",
    "    :return: operator created from the input dictionary.\n",
    "    \"\"\"\n",
    "    \n",
    "    pauli_dict = {\n",
    "        'paulis': [\n",
    "                   {\"coeff\": {\"imag\": 0.0, \"real\": a}, \"label\": \"II\"},\n",
    "                   {\"coeff\": {\"imag\": 0.0, \"real\": b}, \"label\": \"XX\"},\n",
    "                   {\"coeff\": {\"imag\": 0.0, \"real\": c}, \"label\": \"YY\"},\n",
    "                   {\"coeff\": {\"imag\": 0.0, \"real\": d}, \"label\": \"ZZ\"}                   \n",
    "                  ]\n",
    "    }\n",
    "    return WeightedPauliOperator.from_dict(pauli_dict)"
   ]
  },
  {
   "cell_type": "markdown",
   "metadata": {},
   "source": [
    " Qiskit's ```NumPyEigensolver``` will find smallest eigenvalue of the given Hamiltonian using classical approach. We will use result of this function to esimate output of VQE procedure."
   ]
  },
  {
   "cell_type": "code",
   "execution_count": 4,
   "metadata": {},
   "outputs": [
    {
     "name": "stdout",
     "output_type": "stream",
     "text": [
      "The minimal eigenvalue is: -1.0000000000000002\n"
     ]
    }
   ],
   "source": [
    "H = prepare_hamiltonian(0.5, -0.5, -0.5, 0.5)\n",
    "spectral_result = NumPyEigensolver(H).run()\n",
    "min_eigenval = min(np.real(spectral_result.eigenvalues))\n",
    "print('The minimal eigenvalue is: {}'.format(min_eigenval))"
   ]
  },
  {
   "cell_type": "markdown",
   "metadata": {},
   "source": [
    "We define the ```ansatz``` function to create a circuit with its specific measurement ($Z$ or $X$ or $Y$ measurments)."
   ]
  },
  {
   "cell_type": "code",
   "execution_count": 5,
   "metadata": {},
   "outputs": [],
   "source": [
    "def ansatz(theta, measure):\n",
    "    \"\"\"\n",
    "    Creates a device ansatz circuit .\n",
    "    :param theta: angle for constructing parametrized state preparation.\n",
    "    :param measure: measurement in given basis. E.g. 'Z' stands for measurement in standart basis.\n",
    "    :return: parametrized quantum circuit.\n",
    "    \"\"\"\n",
    "    q = QuantumRegister(2)\n",
    "    c = ClassicalRegister(2)\n",
    "    circuit = QuantumCircuit(q, c)\n",
    "\n",
    "    # quantum state preparation\n",
    "    circuit = state_preparation(circuit, theta)\n",
    "\n",
    "    # measurement\n",
    "    if measure == 'Z':\n",
    "        circuit.measure(q[0], c[0])\n",
    "        circuit.measure(q[1], c[1])\n",
    "    elif measure == 'X':\n",
    "        circuit.u2(0, np.pi, q[0])\n",
    "        circuit.u2(0, np.pi, q[1])\n",
    "        circuit.measure(q[0], c[0])\n",
    "        circuit.measure(q[1], c[1])\n",
    "    elif measure == 'Y':\n",
    "        circuit.u2(0, np.pi/2, q[0])\n",
    "        circuit.u2(0, np.pi/2, q[1])\n",
    "        circuit.measure(q[0], c[0])\n",
    "        circuit.measure(q[1], c[1])\n",
    "    else:\n",
    "        raise ValueError('Not valid input for measurement: input should be \"X\" or \"Y\" or \"Z\"')\n",
    "\n",
    "    return circuit"
   ]
  },
  {
   "cell_type": "markdown",
   "metadata": {},
   "source": [
    "By measurning qubits in $ Z \\otimes Z $ orthonormal basis our quantum system collaps in one or 4 basis states ${|00 \\rangle ,  |01 \\rangle, |10 \\rangle ,|11 \\rangle}$\n",
    "\n",
    "$\n",
    "Z_1 \\otimes Z_2 = \\begin{pmatrix}\n",
    "1 & 0 & 0 & 0\\\\\n",
    "0 & -1 & 0 & 0\\\\\n",
    "0 & 0 & -1 & 0\\\\\n",
    "0 & 0 & 0 & 1\n",
    "\\end{pmatrix};\n",
    "\\qquad\n",
    "$\n",
    "$|00 \\rangle =  \\begin{pmatrix}\n",
    "1 \\\\\n",
    "0 \\\\\n",
    "0 \\\\\n",
    "0 \n",
    "\\end{pmatrix},\n",
    "$\n",
    "$|01 \\rangle =  \\begin{pmatrix}\n",
    "0 \\\\\n",
    "1 \\\\\n",
    "0 \\\\\n",
    "0 \n",
    "\\end{pmatrix},\n",
    "$\n",
    "$|10 \\rangle =  \\begin{pmatrix}\n",
    "0 \\\\\n",
    "0 \\\\\n",
    "1 \\\\\n",
    "0 \n",
    "\\end{pmatrix},\n",
    "$\n",
    "$|11 \\rangle =  \\begin{pmatrix}\n",
    "0 \\\\\n",
    "0 \\\\\n",
    "0 \\\\\n",
    "1 \n",
    "\\end{pmatrix},\n",
    "\\qquad$\n",
    "\n",
    "Measurement outcomes are eigenvalues of $Z \\otimes Z $ orthonormal basis vectors.\n",
    "\n",
    "$Z \\otimes Z  |00 \\rangle = \\lambda_{|00 \\rangle} \\cdot |00 \\rangle $ , with $\\lambda_{|00 \\rangle} = +1 \\qquad$\n",
    "\n",
    "$Z \\otimes Z  |01 \\rangle = \\lambda_{|01 \\rangle} \\cdot |01 \\rangle $ , with $\\lambda_{|01 \\rangle} = -1 \\qquad$\n",
    "\n",
    "$Z \\otimes Z  |10 \\rangle = \\lambda_{|10 \\rangle} \\cdot |10 \\rangle $ , with $\\lambda_{|10 \\rangle} = -1 \\qquad$\n",
    "\n",
    "$Z \\otimes Z  |11 \\rangle = \\lambda_{|11 \\rangle} \\cdot |11 \\rangle $ , with $\\lambda_{|11 \\rangle} = +1 $\n",
    "\n"
   ]
  },
  {
   "cell_type": "markdown",
   "metadata": {},
   "source": [
    "As we see $Z \\otimes Z$ operator has four eigenstates mentioned above associated with eigenvalues 1 and -1 accordingly. To calculate $\\langle \\Psi|Z|\\Psi \\rangle$, we need to measure our circuit many times and then substitute every “01” and \"10\" with “-1” and every “00” and \"11\" with “1”."
   ]
  },
  {
   "cell_type": "markdown",
   "metadata": {},
   "source": [
    " The ```quantum_module``` finds the expectation values of a Pauli operator."
   ]
  },
  {
   "cell_type": "code",
   "execution_count": 6,
   "metadata": {},
   "outputs": [],
   "source": [
    "def quantum_module(parameters, measure):\n",
    "    # measure\n",
    "    if measure == 'I':\n",
    "        return 1\n",
    "    elif measure == 'Z':\n",
    "        circuit = ansatz(parameters, 'Z')\n",
    "    elif measure == 'X':\n",
    "        circuit = ansatz(parameters, 'X')\n",
    "    elif measure == 'Y':\n",
    "        circuit = ansatz(parameters, 'Y')\n",
    "    else:\n",
    "        raise ValueError('Not valid input for measurement: input should be \"I\" or \"X\" or \"Z\" or \"Y\"')\n",
    "    \n",
    "    shots = 8192\n",
    "    backend = BasicAer.get_backend('qasm_simulator')\n",
    "    job = execute(circuit, backend, shots=shots)\n",
    "    result = job.result()\n",
    "    counts = result.get_counts()\n",
    "    \n",
    "   \n",
    "    # expectation value estimation from counts\n",
    "    expectation_value = 0\n",
    "    for measure_result in counts:\n",
    "        sign = +1\n",
    "        if measure_result  in ('01','10'):\n",
    "            sign = -1\n",
    "        expectation_value += sign * counts[measure_result] / shots\n",
    "        \n",
    "    return expectation_value"
   ]
  },
  {
   "cell_type": "markdown",
   "metadata": {},
   "source": [
    "The following is the main method that takes parameters for ansatz state preparation and returns the corresponding expectation value of the Hamiltonian. For each Pauli term, we create separate quantum modules that calculate the expectation value of each Pauli. Then, all expectation values of Pauli operators multiplied by there corresponding coefficients $(0.5, -0.5, -0.5, 0.5)$ are summed."
   ]
  },
  {
   "cell_type": "code",
   "execution_count": 7,
   "metadata": {},
   "outputs": [],
   "source": [
    "def vqe(theta):\n",
    "        \n",
    "    # quantum_modules\n",
    "    quantum_module_I =  0.5 * quantum_module(theta, 'I')\n",
    "    quantum_module_Z =  0.5 * quantum_module(theta, 'Z')\n",
    "    quantum_module_X = -0.5 * quantum_module(theta, 'X')\n",
    "    quantum_module_Y = -0.5 * quantum_module(theta, 'Y')\n",
    "    \n",
    "    # summing the measurement results\n",
    "    classical_adder = quantum_module_I + quantum_module_Z + quantum_module_X + quantum_module_Y\n",
    "    \n",
    "    return classical_adder"
   ]
  },
  {
   "cell_type": "markdown",
   "metadata": {},
   "source": [
    "This is the final part of the code where we just call the ```vqe``` method on the set of $\\theta$ values and changing parameters for the quantum state preparation circuit (trial/ansatz $\\left| \\psi \\right\\rangle$)."
   ]
  },
  {
   "cell_type": "code",
   "execution_count": 8,
   "metadata": {},
   "outputs": [
    {
     "name": "stdout",
     "output_type": "stream",
     "text": [
      "The ground state energy estimated by VQE is:-1.0 on angle: 3.141592653589793\n"
     ]
    }
   ],
   "source": [
    "thetas = np.linspace(0,np.pi, num=200)\n",
    "\n",
    "values = [(vqe(theta),theta) for theta in thetas]\n",
    "min_val = min(values , key=lambda x: x[0])\n",
    "print('The ground state energy estimated by VQE is:{} on angle: {}'. format(*min_val))\n"
   ]
  },
  {
   "cell_type": "markdown",
   "metadata": {},
   "source": [
    "Result of classical algorithm"
   ]
  },
  {
   "cell_type": "code",
   "execution_count": 9,
   "metadata": {},
   "outputs": [
    {
     "name": "stdout",
     "output_type": "stream",
     "text": [
      "The exact ground state energy is: -1.0000000000000002\n"
     ]
    }
   ],
   "source": [
    "print('The exact ground state energy is: {}'.format(min_eigenval))"
   ]
  },
  {
   "cell_type": "markdown",
   "metadata": {},
   "source": [
    "<h3 align=\"left\">\n",
    "Conclusion\n",
    "</h3>\n",
    "\n",
    "As we see the ground state energy founded by VQE satisfy the minimal eigenvalue of Hamiltonian returned by classical spectral decomposition algorithm."
   ]
  },
  {
   "cell_type": "markdown",
   "metadata": {},
   "source": [
    "<h3 align=\"left\">\n",
    "References\n",
    "</h3>\n",
    "\n",
    "[A. Peruzzo et al., Nature Communications, \"A variational eigenvalue solver on a photonic quantum processor\" (2014)](https://www.nature.com/articles/ncomms5213?origin=ppub).\n",
    "\n",
    " [Michał Stęchły, \"Variational Quantum Eigensolver explained\"](https://www.mustythoughts.com/variational-quantum-eigensolver-explained).\n",
    "\n",
    "[Davit Khachatryan, \"Variational quantum eigensolver\"](https://nbviewer.jupyter.org/github/DavitKhach/quantum-algorithms-tutorials/blob/master/variational_quantum_eigensolver.ipynb).\n",
    "\n",
    "[Variational-Quantum-Eigensolver (VQE)](https://grove-docs.readthedocs.io/en/latest/vqe.html)\n",
    "\n",
    "[M.A. Nielsen, I.L. Chuang, Cambridge University Press New York, \"Quantum Computation and Quantum Information: 10th Anniversary Edition\n",
    "10th\" (2011)](https://www.cambridge.org/am/academic/subjects/physics/quantum-physics-quantum-information-and-quantum-computation/quantum-computation-and-quantum-information-10th-anniversary-edition?format=HB).\n",
    "\n"
   ]
  }
 ],
 "metadata": {
  "kernelspec": {
   "display_name": "Python 3",
   "language": "python",
   "name": "python3"
  },
  "language_info": {
   "codemirror_mode": {
    "name": "ipython",
    "version": 3
   },
   "file_extension": ".py",
   "mimetype": "text/x-python",
   "name": "python",
   "nbconvert_exporter": "python",
   "pygments_lexer": "ipython3",
   "version": "3.8.5"
  }
 },
 "nbformat": 4,
 "nbformat_minor": 2
}
